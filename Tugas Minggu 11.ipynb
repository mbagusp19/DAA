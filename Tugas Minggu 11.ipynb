{
 "cells": [
  {
   "cell_type": "markdown",
   "metadata": {},
   "source": [
    "# Undirected Graph"
   ]
  },
  {
   "cell_type": "code",
   "execution_count": 1,
   "metadata": {},
   "outputs": [],
   "source": [
    "# a-----b-----c\n",
    "# |     |     |\n",
    "# |     |     |\n",
    "# d-----e-----f-----g"
   ]
  },
  {
   "cell_type": "code",
   "execution_count": 2,
   "metadata": {},
   "outputs": [
    {
     "name": "stdout",
     "output_type": "stream",
     "text": [
      "{'a': ['b', 'd'], 'b': ['c', 'e'], 'c': ['b', 'f'], 'd': ['a', 'e'], 'e': ['b', 'f'], 'f': ['g'], 'g': ['f']}\n"
     ]
    }
   ],
   "source": [
    "graph = {\"a\" : [\"b\", \"d\"],\n",
    "         \"b\" : [\"c\", \"e\"],\n",
    "         \"c\" : [\"b\",\"f\"],\n",
    "         \"d\" : [\"a\", \"e\"],\n",
    "         \"e\" : [\"b\", \"f\"],\n",
    "         \"f\" : [\"g\"],\n",
    "         \"g\" : [\"f\"]\n",
    "        }\n",
    "\n",
    "print(graph)         "
   ]
  },
  {
   "cell_type": "code",
   "execution_count": null,
   "metadata": {},
   "outputs": [],
   "source": []
  }
 ],
 "metadata": {
  "kernelspec": {
   "display_name": "Python 3",
   "language": "python",
   "name": "python3"
  },
  "language_info": {
   "codemirror_mode": {
    "name": "ipython",
    "version": 3
   },
   "file_extension": ".py",
   "mimetype": "text/x-python",
   "name": "python",
   "nbconvert_exporter": "python",
   "pygments_lexer": "ipython3",
   "version": "3.8.3"
  }
 },
 "nbformat": 4,
 "nbformat_minor": 4
}
