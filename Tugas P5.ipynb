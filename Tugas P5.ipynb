{
 "cells": [
  {
   "cell_type": "markdown",
   "metadata": {},
   "source": [
    "# Tugas Pertemuan 5\n",
    "## Merge Sort"
   ]
  },
  {
   "cell_type": "code",
   "execution_count": 5,
   "metadata": {},
   "outputs": [],
   "source": [
    "def mergeSort(arr):\n",
    "    if len(arr) >1:\n",
    "        mid = len(arr)//2 # Menemukan nilai tengah\n",
    "        L = arr[:mid] # Pembagian elemen menjadi 2 bagian\n",
    "        R = arr[mid:]\n",
    "        \n",
    "        mergeSort(L) # Menyortir nilai pertama\n",
    "        mergeSort(R) # Menyortir nilai kedua\n",
    "        \n",
    "        i = j = k = 0\n",
    "        \n",
    "        # Mengcopy data\n",
    "        while i < len(L) and j < len(R):\n",
    "            if L[i] < R[j]:\n",
    "                arr[k] = L[i]\n",
    "                i+= 1\n",
    "            else:\n",
    "                arr[k] = R[j]\n",
    "                j+= 1\n",
    "            k+= 1\n",
    "        \n",
    "        # Memeriksa elemen yang tersisa\n",
    "        while i < len(L):\n",
    "            arr[k] = L[i]\n",
    "            i+= 1\n",
    "            k+= 1\n",
    "            \n",
    "        while j < len(R):\n",
    "            arr[k] = R[j]\n",
    "            j+= 1\n",
    "            k+= 1"
   ]
  },
  {
   "cell_type": "code",
   "execution_count": 6,
   "metadata": {},
   "outputs": [
    {
     "name": "stdout",
     "output_type": "stream",
     "text": [
      "Given array is\n",
      "21 5 9 16 30 7 \n",
      "Sorted array is\n",
      "5 7 9 16 21 30 \n"
     ]
    }
   ],
   "source": [
    "def printList(arr):\n",
    "    for i in range(len(arr)):\n",
    "        print(arr[i], end =\" \")\n",
    "    print()\n",
    "    \n",
    "if __name__ == '__main__':\n",
    "    arr = [21, 5, 9, 16, 30, 7]\n",
    "    print (\"Given array is\", end =\"\\n\")\n",
    "    printList(arr)\n",
    "    mergeSort(arr)\n",
    "    print (\"Sorted array is\", end =\"\\n\")\n",
    "    printList(arr)"
   ]
  },
  {
   "cell_type": "markdown",
   "metadata": {},
   "source": [
    "## Quick Sort"
   ]
  },
  {
   "cell_type": "code",
   "execution_count": 7,
   "metadata": {},
   "outputs": [],
   "source": [
    "def quickSort(X, start, end):\n",
    "    if start < end:\n",
    "        pindex = partisi(X, start, end)\n",
    "        quickSort(X, start, pindex-1)\n",
    "        quickSort(X, pindex+1, end)"
   ]
  },
  {
   "cell_type": "code",
   "execution_count": 8,
   "metadata": {},
   "outputs": [],
   "source": [
    "def partisi(X, start, end):\n",
    "    pivot = X[end]\n",
    "    pindex = start\n",
    "    for i in range(start, end):\n",
    "        if (X[i] <= pivot):\n",
    "            X[i], X[pindex] = X[pindex], X[i]\n",
    "            pindex += 1\n",
    "    X[pindex], X[end] = X[end], X[pindex]\n",
    "    return pindex"
   ]
  },
  {
   "cell_type": "code",
   "execution_count": 9,
   "metadata": {},
   "outputs": [
    {
     "name": "stdout",
     "output_type": "stream",
     "text": [
      "[8, 12, 16, 17, 25, 57]\n"
     ]
    }
   ],
   "source": [
    "X = [17, 12, 57, 8, 16, 25]\n",
    "quickSort(X, 0, len(X)-1)\n",
    "print(X)"
   ]
  },
  {
   "cell_type": "code",
   "execution_count": null,
   "metadata": {},
   "outputs": [],
   "source": []
  }
 ],
 "metadata": {
  "kernelspec": {
   "display_name": "Python 3",
   "language": "python",
   "name": "python3"
  },
  "language_info": {
   "codemirror_mode": {
    "name": "ipython",
    "version": 3
   },
   "file_extension": ".py",
   "mimetype": "text/x-python",
   "name": "python",
   "nbconvert_exporter": "python",
   "pygments_lexer": "ipython3",
   "version": "3.8.3"
  }
 },
 "nbformat": 4,
 "nbformat_minor": 4
}
